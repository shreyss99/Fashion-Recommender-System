{
 "cells": [
  {
   "cell_type": "code",
   "execution_count": 6,
   "id": "fd88efeb",
   "metadata": {},
   "outputs": [
    {
     "name": "stdout",
     "output_type": "stream",
     "text": [
      "Requirement already satisfied: bing-image-downloader in c:\\users\\burzi\\appdata\\local\\programs\\python\\python39\\lib\\site-packages (1.1.2)\n"
     ]
    },
    {
     "name": "stderr",
     "output_type": "stream",
     "text": [
      "WARNING: You are using pip version 22.0.4; however, version 23.1.2 is available.\n",
      "You should consider upgrading via the 'C:\\Users\\burzi\\AppData\\Local\\Programs\\Python\\Python39\\python.exe -m pip install --upgrade pip' command.\n"
     ]
    }
   ],
   "source": [
    "# Download the library to download images from google\n",
    "!pip install bing-image-downloader"
   ]
  },
  {
   "cell_type": "code",
   "execution_count": 2,
   "id": "dcab0a8d",
   "metadata": {},
   "outputs": [],
   "source": [
    "#Create a directory with its respective name\n",
    "!mkdir google_images"
   ]
  },
  {
   "cell_type": "code",
   "execution_count": 4,
   "id": "0b21de5c",
   "metadata": {},
   "outputs": [
    {
     "name": "stdout",
     "output_type": "stream",
     "text": [
      "[%] Downloading Images to C:\\Users\\burzi\\Documents\\Projects\\Fashion Sense Compatibility\\google_images\\All T-shirts\n",
      "\n",
      "\n",
      "[!!]Indexing page: 1\n",
      "\n",
      "[%] Indexed 10 Images on Page 1.\n",
      "\n",
      "===============================================\n",
      "\n",
      "[%] Downloading Image #1 from https://s-media-cache-ak0.pinimg.com/736x/ae/a2/28/aea22833c66f7701d8a60eaa06722d04.jpg\n",
      "[%] File Downloaded !\n",
      "\n",
      "[%] Downloading Image #2 from https://sc01.alicdn.com/kf/HTB1sIWuLXXXXXa6aFXXq6xXFXXXJ/200663953/HTB1sIWuLXXXXXa6aFXXq6xXFXXXJ.jpg\n",
      "[%] File Downloaded !\n",
      "\n",
      "[%] Downloading Image #3 from http://www.t-shirtmanufacturers.com/wp-content/uploads/2019/05/Black-and-white-cotton-t-shirt-6-729x729.jpg\n",
      "[%] File Downloaded !\n",
      "\n",
      "[%] Downloading Image #4 from https://www.diyprinting.com.ph/wp-content/uploads/2016/10/Color-T-shirt.jpg\n",
      "[%] File Downloaded !\n",
      "\n",
      "[%] Downloading Image #5 from https://img.globaltextiles.com/html/images/upload/products/87/a87511.jpg\n",
      "[%] File Downloaded !\n",
      "\n",
      "[%] Downloading Image #6 from https://www.rothco.com/upload/product/product/66160-HR.jpg\n",
      "[%] File Downloaded !\n",
      "\n",
      "[%] Downloading Image #7 from https://i.pinimg.com/originals/de/45/88/de45884236b688fe9079a989fba390bf.jpg\n",
      "[%] File Downloaded !\n",
      "\n",
      "[%] Downloading Image #8 from https://www.dieharddesigns.com/apparel/images/zDiehard-Designs-Custom-T-Shirt-Product-Smaller.jpg\n",
      "[%] File Downloaded !\n",
      "\n",
      "[%] Downloading Image #9 from https://cdn.shopify.com/s/files/1/1650/7423/products/04-Black-Crew-Neck-Long-Sleeve-1_530x@2x.jpg?v=1573608709\n",
      "[%] File Downloaded !\n",
      "\n",
      "[%] Downloading Image #10 from https://www.signature-menswear.com/images/seven-for-all-mankind-black-logo-t-shirt-p4281-35843_image.jpg\n",
      "[%] File Downloaded !\n",
      "\n",
      "\n",
      "\n",
      "[%] Done. Downloaded 10 images.\n"
     ]
    }
   ],
   "source": [
    "# Import the module from the library to download the images as per the required parameters\n",
    "from bing_image_downloader import downloader\n",
    "downloader.download(\"All T-shirts\", limit = 10, output_dir = 'google_images')"
   ]
  },
  {
   "cell_type": "code",
   "execution_count": null,
   "id": "fc8adefb",
   "metadata": {},
   "outputs": [],
   "source": []
  },
  {
   "cell_type": "code",
   "execution_count": null,
   "id": "62340c59",
   "metadata": {},
   "outputs": [],
   "source": []
  }
 ],
 "metadata": {
  "kernelspec": {
   "display_name": "Python 3 (ipykernel)",
   "language": "python",
   "name": "python3"
  },
  "language_info": {
   "codemirror_mode": {
    "name": "ipython",
    "version": 3
   },
   "file_extension": ".py",
   "mimetype": "text/x-python",
   "name": "python",
   "nbconvert_exporter": "python",
   "pygments_lexer": "ipython3",
   "version": "3.9.13"
  }
 },
 "nbformat": 4,
 "nbformat_minor": 5
}
